{
 "cells": [
  {
   "cell_type": "markdown",
   "id": "7c693eb4-ce39-405a-85a8-8bec26470cc8",
   "metadata": {},
   "source": [
    "# Manipulación de Fechas"
   ]
  },
  {
   "cell_type": "markdown",
   "id": "acbcc8de-d813-4d8b-98c3-fe14e05a69f2",
   "metadata": {},
   "source": [
    "## Creación del tipo de dato fecha"
   ]
  },
  {
   "cell_type": "code",
   "execution_count": 98,
   "id": "0fa9e47a-a709-4e56-aa52-e01f3869ca18",
   "metadata": {},
   "outputs": [],
   "source": [
    "from datetime import date, time, datetime, timedelta\n",
    "from dateutil.relativedelta import relativedelta"
   ]
  },
  {
   "cell_type": "code",
   "execution_count": 9,
   "id": "ece8e230-837e-4873-a6ac-25124fe189b0",
   "metadata": {},
   "outputs": [],
   "source": [
    "fecha = date(2024, 7, 27) # año, mes, día,"
   ]
  },
  {
   "cell_type": "code",
   "execution_count": 15,
   "id": "fa2a3764-afe9-41d9-a8ce-5feeed0aaedb",
   "metadata": {},
   "outputs": [],
   "source": [
    "hora = time(12,39,29,2)  # hora, minutos, segundos y microsegundos"
   ]
  },
  {
   "cell_type": "code",
   "execution_count": 17,
   "id": "e7da7cb5-237f-4e06-a667-cbfe574a29b5",
   "metadata": {},
   "outputs": [],
   "source": [
    "fecha_hora = datetime(2024, 7, 27, 8, 28, 5)"
   ]
  },
  {
   "cell_type": "code",
   "execution_count": 19,
   "id": "bf07e03b-22e5-402f-b55b-8ac67abc7263",
   "metadata": {},
   "outputs": [
    {
     "name": "stdout",
     "output_type": "stream",
     "text": [
      "2024-07-27\n"
     ]
    }
   ],
   "source": [
    "print( fecha )"
   ]
  },
  {
   "cell_type": "code",
   "execution_count": 21,
   "id": "382d7f15-43fb-4736-a9b8-c42edef84211",
   "metadata": {},
   "outputs": [
    {
     "name": "stdout",
     "output_type": "stream",
     "text": [
      "12:39:29.000002\n"
     ]
    }
   ],
   "source": [
    "print( hora )"
   ]
  },
  {
   "cell_type": "code",
   "execution_count": 23,
   "id": "cac4a56e-1745-4e67-8a34-25dbd733d07b",
   "metadata": {},
   "outputs": [
    {
     "name": "stdout",
     "output_type": "stream",
     "text": [
      "2024-07-27 08:28:05\n"
     ]
    }
   ],
   "source": [
    "print( fecha_hora )"
   ]
  },
  {
   "cell_type": "markdown",
   "id": "5bf1ab7d-517b-4e69-9c22-afbd08f2842a",
   "metadata": {},
   "source": [
    "## Acceso a la fecha actual"
   ]
  },
  {
   "cell_type": "markdown",
   "id": "78cd8b32-de08-46bc-92ef-2fff901b92e2",
   "metadata": {},
   "source": [
    "fecha_actual = date.today()\n",
    "print(fecha_actual)"
   ]
  },
  {
   "cell_type": "code",
   "execution_count": 39,
   "id": "d620cfd3-f98b-40bf-a2b9-63bd74010701",
   "metadata": {},
   "outputs": [
    {
     "name": "stdout",
     "output_type": "stream",
     "text": [
      "Hoy es: 2024-07-27 con hora 2024-07-27 08:32:11.042221 y número de semanas: 5\n"
     ]
    }
   ],
   "source": [
    "# Qué día es hoy, qué hora es y qué día de la semana es?\n",
    "print('Hoy es:',date.today(),'con hora',datetime.now(),'y número de semanas:', fecha_actual.weekday())"
   ]
  },
  {
   "cell_type": "markdown",
   "id": "2671f25e-be94-40a4-af9c-33e0b68ee647",
   "metadata": {},
   "source": [
    "## Conversión de tipos de datos"
   ]
  },
  {
   "cell_type": "code",
   "execution_count": 46,
   "id": "a34dec12-afc9-4af0-8ff6-61c6b1f8259d",
   "metadata": {},
   "outputs": [
    {
     "name": "stdout",
     "output_type": "stream",
     "text": [
      "<class 'str'>\n"
     ]
    }
   ],
   "source": [
    "# muestrame el tipo de dato de una fecha de texto y conviertelo a dia mes anio?\n",
    "fecha = '27/7/2024'\n",
    "print(type(fecha))"
   ]
  },
  {
   "cell_type": "code",
   "execution_count": 50,
   "id": "207726a2-4a7e-429b-98d2-7ced1293e9a8",
   "metadata": {},
   "outputs": [
    {
     "name": "stdout",
     "output_type": "stream",
     "text": [
      "<class 'datetime.datetime'>\n",
      "2024-07-27 00:00:00\n"
     ]
    }
   ],
   "source": [
    "fecha_formato = datetime.strptime(fecha,'%d/%m/%Y')\n",
    "print(type(fecha_formato))\n",
    "print(fecha_formato)"
   ]
  },
  {
   "cell_type": "markdown",
   "id": "2d1d191d-eee3-45f8-bc58-779c9d9c0cbc",
   "metadata": {},
   "source": [
    "## Formatos de fechas y horas"
   ]
  },
  {
   "cell_type": "code",
   "execution_count": 70,
   "id": "b2387d6e-b543-48c8-bee4-3273b9758f24",
   "metadata": {},
   "outputs": [
    {
     "name": "stdout",
     "output_type": "stream",
     "text": [
      "2020-04-15 20:50:30\n",
      "2020/04/15 20-50-30\n"
     ]
    }
   ],
   "source": [
    "fecha_01 = datetime.strptime('2020-4-15 20:50:30', '%Y-%m-%d %H:%M:%S')\n",
    "fecha_01_formato = fecha_01.strftime('%Y/%m/%d %H-%M-%S')\n",
    "print(fecha_01)\n",
    "print(fecha_01_formato)"
   ]
  },
  {
   "cell_type": "markdown",
   "id": "7e401ecb-d45b-4315-86c2-7bed22bfd1c6",
   "metadata": {},
   "source": [
    "## Cálculos en las fechas"
   ]
  },
  {
   "cell_type": "code",
   "execution_count": 83,
   "id": "7c962168-04c2-4757-8dc1-f4cf89cf7639",
   "metadata": {},
   "outputs": [
    {
     "name": "stdout",
     "output_type": "stream",
     "text": [
      "2024-11-01\n"
     ]
    }
   ],
   "source": [
    "#Cuál es la fecha tres meses y cuatro días a partir de hoy? 31 por 3 mas 4 dias\n",
    "d1 = date.today()\n",
    "d2 = d1 + timedelta((31*3) + 4)\n",
    "print(d2)"
   ]
  },
  {
   "cell_type": "code",
   "execution_count": 87,
   "id": "d6d07597-868f-4141-8dbc-b80d47a9874c",
   "metadata": {},
   "outputs": [
    {
     "name": "stdout",
     "output_type": "stream",
     "text": [
      "2024-07-20\n"
     ]
    }
   ],
   "source": [
    "# Se están quitando 7 dias de la fecha actual.\n",
    "d3 = d1-timedelta(7)\n",
    "print(d3)"
   ]
  },
  {
   "cell_type": "code",
   "execution_count": 104,
   "id": "991ae38c-ba65-453b-9abe-b11c1f3bbef5",
   "metadata": {},
   "outputs": [
    {
     "name": "stdout",
     "output_type": "stream",
     "text": [
      "2023-07-27\n"
     ]
    }
   ],
   "source": [
    "# Se está quitando 1 año a la fecha actual.\n",
    "d4 = d1 - relativedelta(years=1)\n",
    "print(d4)"
   ]
  },
  {
   "cell_type": "code",
   "execution_count": 102,
   "id": "07de6f05-b4d2-4597-b635-139293a56c1b",
   "metadata": {},
   "outputs": [
    {
     "name": "stdout",
     "output_type": "stream",
     "text": [
      "2024-09-27\n"
     ]
    }
   ],
   "source": [
    "# Se está quitando 1 año a la fecha actual.\n",
    "d5 = d1 + relativedelta(months=2)\n",
    "print(d5)"
   ]
  }
 ],
 "metadata": {
  "kernelspec": {
   "display_name": "Python 3 (ipykernel)",
   "language": "python",
   "name": "python3"
  },
  "language_info": {
   "codemirror_mode": {
    "name": "ipython",
    "version": 3
   },
   "file_extension": ".py",
   "mimetype": "text/x-python",
   "name": "python",
   "nbconvert_exporter": "python",
   "pygments_lexer": "ipython3",
   "version": "3.12.4"
  }
 },
 "nbformat": 4,
 "nbformat_minor": 5
}
